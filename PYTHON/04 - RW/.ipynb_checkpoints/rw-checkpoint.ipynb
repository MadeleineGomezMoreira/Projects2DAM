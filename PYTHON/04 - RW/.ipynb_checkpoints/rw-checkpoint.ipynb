{
 "cells": [
  {
   "cell_type": "markdown",
   "id": "2985e6ce",
   "metadata": {},
   "source": [
    "__Cuaderno de trabajo de:__ Madeleine Gomez Moreira 2DAM"
   ]
  },
  {
   "cell_type": "markdown",
   "id": "5e955572",
   "metadata": {},
   "source": [
    "## Lectura y escritura de archivos\n",
    "\n",
    "    f = open(\"archivo.txt\", \"w\")\n",
    "    f.write('Hola mundo\\n')\n",
    "tenemos los siguientes modos:\n",
    "- ‘r’ : Abre el archivo en modo lectura.\n",
    "-‘w’ : write, escritura. Abre el archivo en modo escritura.\n",
    "-‘a’ : append, se diferencia del modo ‘w’ en que en este caso no se sobreescribe el contenido del archivo, sino que se comienza a escribir al final del archivo.\n",
    "-‘b’ : binary, binario.\n",
    "-‘+’ : permite lectura y escritura simultáneas.\n",
    "-‘U’ : universal newline, saltos de línea universales"
   ]
  },
  {
   "cell_type": "code",
   "execution_count": 1,
   "id": "cef30f58",
   "metadata": {},
   "outputs": [
    {
     "name": "stdout",
     "output_type": "stream",
     "text": [
      "<_io.TextIOWrapper name='archivo.txt' mode='r' encoding='UTF-8'>\n"
     ]
    }
   ],
   "source": [
    "f = open(\"archivo.txt\", \"r\")\n",
    "print(f)"
   ]
  },
  {
   "cell_type": "code",
   "execution_count": 2,
   "id": "d2c11ddc",
   "metadata": {},
   "outputs": [
    {
     "name": "stdout",
     "output_type": "stream",
     "text": [
      "<_io.TextIOWrapper name='archivo.txt' mode='r' encoding='cp437'>\n",
      "<_io.TextIOWrapper name='archivo.txt' mode='r' encoding='utf8'>\n"
     ]
    }
   ],
   "source": [
    "f = open(\"archivo.txt\",encoding='cp437')\n",
    "print(f)\n",
    "f = open(\"archivo.txt\",encoding='utf8')\n",
    "print(f)"
   ]
  },
  {
   "cell_type": "code",
   "execution_count": 4,
   "id": "631cc9dc",
   "metadata": {},
   "outputs": [
    {
     "name": "stdout",
     "output_type": "stream",
     "text": [
      "1 2\n",
      "2 4\n",
      "3 6\n",
      "4 8\n",
      "\n"
     ]
    },
    {
     "ename": "ValueError",
     "evalue": "Unknown format code 'f' for object of type 'str'",
     "output_type": "error",
     "traceback": [
      "\u001b[1;31m---------------------------------------------------------------------------\u001b[0m",
      "\u001b[1;31mValueError\u001b[0m                                Traceback (most recent call last)",
      "Cell \u001b[1;32mIn [4], line 6\u001b[0m\n\u001b[0;32m      3\u001b[0m \u001b[38;5;28mprint\u001b[39m(completo)\n\u001b[0;32m      4\u001b[0m f\u001b[38;5;241m.\u001b[39mclose()\n\u001b[1;32m----> 6\u001b[0m format_float \u001b[38;5;241m=\u001b[39m \u001b[38;5;124;43m\"\u001b[39;49m\u001b[38;5;132;43;01m{:.2f}\u001b[39;49;00m\u001b[38;5;124;43m\"\u001b[39;49m\u001b[38;5;241;43m.\u001b[39;49m\u001b[43mformat\u001b[49m\u001b[43m(\u001b[49m\u001b[43mcompleto\u001b[49m\u001b[43m)\u001b[49m\n\u001b[0;32m      7\u001b[0m \u001b[38;5;28mprint\u001b[39m(format_float)\n",
      "\u001b[1;31mValueError\u001b[0m: Unknown format code 'f' for object of type 'str'"
     ]
    }
   ],
   "source": [
    "f = open(\"archivo.txt\", \"r\")\n",
    "completo = f.read()\n",
    "print(completo)\n",
    "f.close()"
   ]
  },
  {
   "cell_type": "code",
   "execution_count": 4,
   "id": "5dfb1796",
   "metadata": {},
   "outputs": [
    {
     "name": "stdout",
     "output_type": "stream",
     "text": [
      "1 2\n",
      "2 4\n",
      "\n"
     ]
    }
   ],
   "source": [
    "f = open(\"archivo.txt\", \"r\")\n",
    "parte = f.read(8)\n",
    "print(parte)\n",
    "f.close()"
   ]
  },
  {
   "cell_type": "code",
   "execution_count": 5,
   "id": "f0664d39",
   "metadata": {},
   "outputs": [
    {
     "name": "stdout",
     "output_type": "stream",
     "text": [
      "1 2\n",
      "\n",
      "2 4\n",
      "\n",
      "3 6\n",
      "\n",
      "4 8\n",
      "\n"
     ]
    }
   ],
   "source": [
    "f = open(\"archivo.txt\", \"r\")\n",
    "while True:\n",
    "    linea = f.readline()\n",
    "    if not linea: \n",
    "        break\n",
    "    print(linea)"
   ]
  },
  {
   "cell_type": "code",
   "execution_count": 6,
   "id": "e5b431cc",
   "metadata": {},
   "outputs": [
    {
     "name": "stdout",
     "output_type": "stream",
     "text": [
      "['1', '2']\n",
      "['2', '4']\n",
      "['3', '6']\n",
      "['4', '8']\n"
     ]
    }
   ],
   "source": [
    "archivo=\"archivo.txt\"\n",
    "text=open(archivo).readlines()\n",
    "for line in text:\n",
    "    print(line.split())"
   ]
  },
  {
   "cell_type": "markdown",
   "id": "026c6b29",
   "metadata": {},
   "source": [
    "## Manejando excepciones"
   ]
  },
  {
   "cell_type": "code",
   "execution_count": 7,
   "id": "4f64e191",
   "metadata": {},
   "outputs": [
    {
     "name": "stdout",
     "output_type": "stream",
     "text": [
      "archivo.txt tiene 4 lineas\n",
      "no pude abrir no_existe.txt\n"
     ]
    }
   ],
   "source": [
    "archivo=\"archivo.txt\"\n",
    "try:\n",
    "    f = open(archivo, 'r')\n",
    "except IOError:\n",
    "    print('no pude abrir', archivo)\n",
    "else:\n",
    "    print(archivo, 'tiene', len(f.readlines()), 'lineas')\n",
    "    f.close()\n",
    "\n",
    "archivo=\"no_existe.txt\"\n",
    "try:\n",
    "    f = open(archivo, 'r')\n",
    "except IOError:\n",
    "    print('no pude abrir', archivo)\n",
    "else:\n",
    "    print(archivo, 'tiene', len(f.readlines()), 'lineas')\n",
    "    f.close()"
   ]
  },
  {
   "cell_type": "markdown",
   "id": "0addf00e",
   "metadata": {},
   "source": [
    "## Format\n",
    "La forma más sencilla de mostrar algo en la salida estándar es median-\n",
    "te el uso de la sentencia print, la cual permite también utilizar técnicas avanzadas de formateo, de forma similar al sprintf de C\n",
    "Los especificadores más sencillos están formados por el símbolo % seguido de una letra que indica el tipo con el que formatear el valor Por ejemplo:\n",
    "\n",
    "Especificador | Formato\n",
    ":--------: | :-------:\n",
    "%s |Cadena\n",
    "%d |Entero\n",
    "%o |Octal\n",
    "%x |Hexadecimal\n",
    "%f |Real\n"
   ]
  },
  {
   "cell_type": "code",
   "execution_count": 8,
   "id": "1bfbdb1c",
   "metadata": {},
   "outputs": [
    {
     "name": "stdout",
     "output_type": "stream",
     "text": [
      "      Hola mundo\n"
     ]
    }
   ],
   "source": [
    "print (\"%10s mundo\" % \"Hola\")"
   ]
  },
  {
   "cell_type": "code",
   "execution_count": 9,
   "id": "1e4ee05e",
   "metadata": {},
   "outputs": [
    {
     "name": "stdout",
     "output_type": "stream",
     "text": [
      "Hola       mundo\n"
     ]
    }
   ],
   "source": [
    "print (\"%-10s mundo\" % \"Hola\")"
   ]
  },
  {
   "cell_type": "code",
   "execution_count": 10,
   "id": "33b349e4",
   "metadata": {},
   "outputs": [
    {
     "name": "stdout",
     "output_type": "stream",
     "text": [
      "3.1416\n",
      "3.141593\n",
      "3.1416 3.141593\n"
     ]
    }
   ],
   "source": [
    "from math import pi\n",
    "print(\"%.4f\" % pi)\n",
    "print(\"%.6f\" % pi)\n",
    "print(\"%.4f\" % pi,\"%.6f\" % pi)"
   ]
  },
  {
   "cell_type": "code",
   "execution_count": 11,
   "id": "34eb43be",
   "metadata": {},
   "outputs": [
    {
     "name": "stdout",
     "output_type": "stream",
     "text": [
      "hola\n"
     ]
    }
   ],
   "source": [
    "print (\"%.4s\" % \"hola mundo\")"
   ]
  },
  {
   "cell_type": "code",
   "execution_count": 12,
   "id": "4315899c",
   "metadata": {},
   "outputs": [
    {
     "name": "stdout",
     "output_type": "stream",
     "text": [
      "  123.456789    123.456789  \n",
      " 9876.543210   9876.543210  \n"
     ]
    }
   ],
   "source": [
    "n=123.456789\n",
    "cadena='{0:12.6f}  '.format(n)\n",
    "cadena=cadena+'{0:12.6f}  '.format(n)\n",
    "cadena=cadena+\"\\n\"\n",
    "n=9876.54321\n",
    "cadena=cadena+'{0:12.6f}  '.format(n)\n",
    "cadena=cadena+'{0:12.6f}  '.format(n)\n",
    "print(cadena)"
   ]
  },
  {
   "cell_type": "markdown",
   "id": "01431782",
   "metadata": {},
   "source": [
    "<hr>\n",
    "<b><font color='red'>Ejercicio 01</font></b>  \n",
    "\n",
    "Lee el archivo.txt "
   ]
  },
  {
   "cell_type": "code",
   "execution_count": 13,
   "id": "89a53994",
   "metadata": {},
   "outputs": [
    {
     "data": {
      "text/plain": [
       "'Esribe tu código aquí'"
      ]
     },
     "execution_count": 13,
     "metadata": {},
     "output_type": "execute_result"
    }
   ],
   "source": [
    "f = open(\"archivo.txt\", \"r\")\n",
    "\"\"\"Esribe tu código aquí\"\"\""
   ]
  },
  {
   "cell_type": "code",
   "execution_count": 26,
   "id": "b446acb4",
   "metadata": {},
   "outputs": [
    {
     "name": "stdout",
     "output_type": "stream",
     "text": [
      "1.0\t2.00\n",
      "2.0\t4.00\n",
      "3.0\t6.00\n",
      "4.0\t8.00\n"
     ]
    }
   ],
   "source": [
    "#SOLUCIÓN:\n",
    "\n",
    "archivo=\"archivo.txt\"\n",
    "text=open(archivo).readlines()\n",
    "for line in text:\n",
    "    print(\"%.1f\" % int(line.split()[0]) + \"\\t\" + \"%.2f\" % int(line.split()[1]))\n",
    "   \n"
   ]
  },
  {
   "cell_type": "markdown",
   "id": "abf12d77",
   "metadata": {},
   "source": [
    "y haz que tenga la siguiente salida:\n",
    "\n",
    "    1.0   2.00  \n",
    "    2.0   4.00  \n",
    "    3.0   6.00  \n",
    "    4.0   8.00  \n"
   ]
  },
  {
   "cell_type": "markdown",
   "id": "e822cc55",
   "metadata": {},
   "source": [
    "<hr>\n",
    "<b><font color='red'>Ejercicio 02</font></b>  "
   ]
  },
  {
   "cell_type": "markdown",
   "id": "db1ab0a6",
   "metadata": {},
   "source": [
    "Haz lo mismo con el archvo archivo_error.txt,con ciddado de que a este archivo le falta algún dato, haz que en ese caso cuando lo lea, si no hay dos columnas no lo escriba."
   ]
  },
  {
   "cell_type": "code",
   "execution_count": 14,
   "id": "f87a2f49",
   "metadata": {},
   "outputs": [
    {
     "data": {
      "text/plain": [
       "'Esribe tu código aquí'"
      ]
     },
     "execution_count": 14,
     "metadata": {},
     "output_type": "execute_result"
    }
   ],
   "source": [
    "\"\"\"Esribe tu código aquí\"\"\""
   ]
  },
  {
   "cell_type": "code",
   "execution_count": 2,
   "id": "681b0268",
   "metadata": {},
   "outputs": [
    {
     "name": "stdout",
     "output_type": "stream",
     "text": [
      "1.0\t2.00\n",
      "wrong line\n",
      "3.0\t6.00\n",
      "wrong line\n",
      "4.0\t8.00\n"
     ]
    }
   ],
   "source": [
    "#SOLUCIÓN\n",
    "\n",
    "archivo=\"archivo_error.txt\"\n",
    "text=open(archivo).readlines()\n",
    "for line in text:\n",
    "    if len(line.split()) ==2 :\n",
    "        \n",
    "        print(\"%.1f\" % int(line.split()[0]) + \"\\t\" + \"%.2f\" % int(line.split()[1]))\n",
    "    \n",
    "    else: print(\"wrong line\")\n",
    "    \n",
    "   "
   ]
  },
  {
   "cell_type": "markdown",
   "id": "9f77bb7c",
   "metadata": {},
   "source": [
    "<hr>\n",
    "<b><font color='red'>Ejercicio 03</font></b>  "
   ]
  },
  {
   "cell_type": "markdown",
   "id": "e1334eb4",
   "metadata": {},
   "source": [
    "Lee el archivo.txt, haz que imprima las columnas en las filas y las filas en las columnas"
   ]
  },
  {
   "cell_type": "code",
   "execution_count": 61,
   "id": "b71b89ee",
   "metadata": {},
   "outputs": [
    {
     "name": "stdout",
     "output_type": "stream",
     "text": [
      "[['1', '2'], ['2', '4'], ['3', '6'], ['4', '8']]\n",
      "1\n",
      "2\n",
      "3\n",
      "4\n",
      "2\n",
      "4\n",
      "6\n",
      "8\n"
     ]
    }
   ],
   "source": [
    "archivo=\"archivo.txt\"\n",
    "text=open(archivo).readlines()\n",
    "\n",
    "a=[]\n",
    "\n",
    "for line in text:\n",
    "    a.append(line.split())\n",
    "    \n",
    "print(a)\n",
    "\n",
    "for j in range(len(a[0])):\n",
    "    b=[]\n",
    "    d=[]\n",
    "    \n",
    "    for i in range(len(a)):\n",
    "        \n",
    "        c=[]\n",
    "        \n",
    "        b.append(a[i][0])\n",
    "        d.append(a[i][j])\n",
    "        \n",
    "        c.append(b)\n",
    "        c.append(d)\n",
    "    \n",
    "\n",
    "for i in c:\n",
    "    for j in i:\n",
    "        print(j)\n",
    "    \n"
   ]
  },
  {
   "cell_type": "code",
   "execution_count": 49,
   "id": "660b829b",
   "metadata": {},
   "outputs": [
    {
     "name": "stdout",
     "output_type": "stream",
     "text": [
      "1\t2\n",
      "2\t4\n",
      "3\t6\n",
      "4\t8\n",
      "\n",
      "['1', '2', '3', '4', '2', '4', '6', '8']\n",
      "[]\n"
     ]
    }
   ],
   "source": [
    "archivo=\"archivo.txt\"\n",
    "text=open(archivo).readlines()\n",
    "\n",
    "for line in text:\n",
    "        print((line.split()[0]) + \"\\t\" + (line.split()[1]))\n",
    "        \n",
    "\n",
    "a = []\n",
    "b = []\n",
    "c = []\n",
    "\n",
    "for line in text:\n",
    "    a.append(line.split())\n",
    "    \n",
    "print(\"\")\n",
    "\n",
    "for j in range(len(a[0])):\n",
    "    for i in range(len(a)):\n",
    "    \n",
    "        b.append(a[i][j])\n",
    "\n",
    "print(b)\n",
    "print(c)\n",
    "\n",
    "#QUE TENGO QUE HACER AQUÍ SOCORRO AAAAAAAAAAAAAAAAAAAAAAAAAAAAAAAAAAAAAAAAAAAAAAAAAAAAAAAAAAAAAAAAAAAAAAAAAAAAAAAAAAAAAAAAAAAAAA\n",
    "\n",
    "#for i in range(len(b)):\n",
    "    \n",
    "    #print(b[i] + \"\\t\" + b[i+1] )\n",
    "    #print(c[i] + \"\\t\" + c[i+1] )\n",
    "    \n",
    "    \n",
    "    "
   ]
  },
  {
   "cell_type": "markdown",
   "id": "0e5c0c6f",
   "metadata": {},
   "source": [
    "<hr>\n",
    "<b><font color='red'>Ejercicio 04</font></b>  "
   ]
  },
  {
   "cell_type": "markdown",
   "id": "171179c2",
   "metadata": {},
   "source": [
    "1. Escribe en un archivo la siguiente matriz:\n",
    "$\n",
    "\\begin{equation}\n",
    "\\begin{pmatrix}\n",
    "3 & 1 & 3\\\\\n",
    "-1 & 1 & 0\\\\\n",
    "-2 & 4 & 1\n",
    "\\end{pmatrix}\n",
    "\\end{equation} \n",
    "$\n",
    "2. Lee el archivo\n",
    "3. Calcula con los datos leidos el determinante de la matriz y lo saque por pantalla"
   ]
  },
  {
   "cell_type": "markdown",
   "id": "8e47f147",
   "metadata": {},
   "source": [
    "<hr>\n",
    "<b><font color='red'>Ejercicio 05</font></b>  "
   ]
  },
  {
   "cell_type": "markdown",
   "id": "888503ef",
   "metadata": {},
   "source": [
    "En el criptoanálisis, la técnica de análisis de frecuencias consiste en el aprovechamiento de estudios sobre la frecuencia de las letras o grupos de letras en los idiomas para poder establecer hipótesis para aprovecharlas para poder descifrar un texto cifrado sin tener la clave de descifrado (romper). Es un método típico para romper cifrados clásicos. \n",
    "Haz una anailisis de frecuencias para los 10 primeros càpitulos de el libro \"el_quijote.txt\""
   ]
  },
  {
   "cell_type": "code",
   "execution_count": 14,
   "id": "a2972ed0",
   "metadata": {},
   "outputs": [
    {
     "name": "stdout",
     "output_type": "stream",
     "text": [
      "94074\n",
      "0.127   A\n",
      "0.017   B\n",
      "0.037   C\n",
      "0.053   D\n",
      "0.138   E\n",
      "0.005   F\n",
      "0.011   G\n",
      "0.012   H\n",
      "0.053   I\n",
      "0.007   J\n",
      "0.000   K\n",
      "0.060   L\n",
      "0.026   M\n",
      "0.066   N\n",
      "0.000   Ñ\n",
      "0.099   O\n",
      "0.021   P\n",
      "0.019   Q\n",
      "0.061   R\n",
      "0.073   S\n",
      "0.037   T\n",
      "0.048   U\n",
      "0.011   V\n",
      "0.000   W\n",
      "0.000   X\n",
      "0.015   Y\n",
      "0.004   Z\n"
     ]
    }
   ],
   "source": [
    "abc=\"ABCDEFGHIJKLMNÑOPQRSTUVWXYZ\"\n",
    "archivo=open(\"el_quijote.txt\", encoding='utf8')\n",
    "\n",
    "text=archivo.readlines()\n",
    "\n",
    "textArray=[]\n",
    "\n",
    "continuedText = \"\"\n",
    "\n",
    "for line in text:\n",
    "    \n",
    "    continuedText += line\n",
    "    \n",
    "    continuedText = continuedText.upper()\n",
    "    continuedText = continuedText.replace('Á','A')\n",
    "    continuedText = continuedText.replace('É','E')\n",
    "    continuedText = continuedText.replace('Í','I')\n",
    "    continuedText = continuedText.replace('Ó','O')\n",
    "    continuedText = continuedText.replace('Ú','U')\n",
    "    \n",
    "#print(continuedText)\n",
    "\n",
    "for i in continuedText:\n",
    "    \n",
    "    if(i in abc):\n",
    "            textArray.append(i)\n",
    "            \n",
    "count = len(textArray)\n",
    "\n",
    "print(count)\n",
    "    \n",
    "#print(textArray)\n",
    "\n",
    "\n",
    "for i in abc:\n",
    "    n = textArray.count(i)\n",
    "    countVar = n/count\n",
    "    \n",
    "#    print((n/count),i)\n",
    "    \n",
    "    print(\"%.3f  \" % countVar,\"%.3c\" % i)"
   ]
  },
  {
   "cell_type": "markdown",
   "id": "01aa879d",
   "metadata": {},
   "source": [
    "Salida:\n",
    "\n",
    "    A   0.127\n",
    "    B   0.017\n",
    "    C   0.037\n",
    "    D   0.053\n",
    "    E   0.138\n",
    "    F   0.005\n",
    "    .\n",
    "    .\n",
    "    ."
   ]
  },
  {
   "cell_type": "code",
   "execution_count": null,
   "id": "de62851b",
   "metadata": {},
   "outputs": [],
   "source": []
  },
  {
   "cell_type": "markdown",
   "id": "650d9ffa",
   "metadata": {},
   "source": [
    "<hr>\n",
    "<b><font color='red'>Ejercicio 06</font></b>  "
   ]
  },
  {
   "cell_type": "markdown",
   "id": "b8ac0b0a",
   "metadata": {},
   "source": [
    "haz un analisis de frecuencias en el libro encriptado \"RH RQCEPESEFM AR MPM.txt\", y comparala con el analisis anterior\n"
   ]
  },
  {
   "cell_type": "code",
   "execution_count": 22,
   "id": "71245e32",
   "metadata": {},
   "outputs": [
    {
     "name": "stdout",
     "output_type": "stream",
     "text": [
      "el_quijote.txtRH RQCEPESEFM AR MPM.txt\n",
      "A   0.127        A   0.049\n",
      "B   0.017        B   0.006\n",
      "C   0.037        C   0.040\n",
      "D   0.053        D   0.061\n",
      "E   0.138        E   0.126\n",
      "F   0.005        F   0.007\n",
      "G   0.011        G   0.000\n",
      "H   0.012        H   0.052\n",
      "I   0.053        I   0.032\n",
      "J   0.007        J   0.012\n",
      "K   0.000        K   0.068\n",
      "L   0.060        L   0.001\n",
      "M   0.026        M   0.093\n",
      "N   0.066        N   0.027\n",
      "Ñ   0.000        Ñ   0.011\n",
      "O   0.099        O   0.010\n",
      "P   0.021        P   0.066\n",
      "Q   0.019        Q   0.069\n",
      "R   0.061        R   0.136\n",
      "S   0.073        S   0.017\n",
      "T   0.037        T   0.044\n",
      "U   0.048        U   0.045\n",
      "V   0.011        V   0.009\n",
      "W   0.000        W   0.000\n",
      "X   0.000        X   0.002\n",
      "Y   0.015        Y   0.009\n",
      "Z   0.004        Z   0.004\n"
     ]
    }
   ],
   "source": [
    "abc=\"ABCDEFGHIJKLMNÑOPQRSTUVWXYZ\"\n",
    "archivo=\"RH RQCEPESEFM AR MPM.txt\"\n",
    "\n",
    "    \n",
    "#print(\"el_quijote.txt\",\"  RH RQCEPESEFM AR MPM.txt\")    \n",
    "#for i in abc:\n",
    "#    print(\"%.2c  \" % i,\"%.3f\" % f[(abc.index(i))],\"       %.2c  \" % i,\"%.3f\" % f2[(abc.index(i))])\n",
    "\n",
    "abc=\"ABCDEFGHIJKLMNÑOPQRSTUVWXYZ\"\n",
    "archivo=open(\"el_quijote.txt\", encoding='utf8')\n",
    "archivoEncrypted=open(\"RH RQCEPESEFM AR MPM.txt\", encoding='utf8')\n",
    "\n",
    "text=archivo.readlines()\n",
    "textEncrypted=archivoEncrypted.readlines()\n",
    "\n",
    "textArray=[]\n",
    "textEncryptedArray=[]\n",
    "\n",
    "continuedText = \"\"\n",
    "continuedEncryptedText=\"\"\n",
    "\n",
    "for line in text:\n",
    "    \n",
    "    continuedText += line\n",
    "    \n",
    "    continuedText = continuedText.upper()\n",
    "    continuedText = continuedText.replace('Á','A')\n",
    "    continuedText = continuedText.replace('É','E')\n",
    "    continuedText = continuedText.replace('Í','I')\n",
    "    continuedText = continuedText.replace('Ó','O')\n",
    "    continuedText = continuedText.replace('Ú','U')\n",
    "\n",
    "for line in textEncrypted:\n",
    "    \n",
    "    continuedEncryptedText += line\n",
    "    \n",
    "    continuedEncryptedText = continuedEncryptedText.upper()\n",
    "    continuedEncryptedText = continuedEncryptedText.replace('Á','A')\n",
    "    continuedEncryptedText = continuedEncryptedText.replace('É','E')\n",
    "    continuedEncryptedText = continuedEncryptedText.replace('Í','I')\n",
    "    continuedEncryptedText = continuedEncryptedText.replace('Ó','O')\n",
    "    continuedEncryptedText = continuedEncryptedText.replace('Ú','U')\n",
    "\n",
    "for i in continuedText:\n",
    "    \n",
    "    if(i in abc):\n",
    "            textArray.append(i)\n",
    "            \n",
    "count = len(textArray)\n",
    "\n",
    "#print(count)\n",
    "\n",
    "for i in continuedEncryptedText:\n",
    "    \n",
    "        if(i in abc):\n",
    "            textEncryptedArray.append(i)\n",
    "            \n",
    "countEncrypted = len(textEncryptedArray)\n",
    "\n",
    "print(\"el_quijote.txt\" + \"RH RQCEPESEFM AR MPM.txt\")\n",
    "\n",
    "for i in abc:\n",
    "    n = textArray.count(i)\n",
    "    f =textEncryptedArray.count(i)\n",
    "    \n",
    "    countVar = n/count\n",
    "    countVarEncrypted= f/countEncrypted\n",
    "    \n",
    "\n",
    "    print(\"%.2c  \" % i,\"%.3f\" % countVar,\"       %.2c  \" % i,\"%.3f\" % countVarEncrypted)"
   ]
  },
  {
   "cell_type": "markdown",
   "id": "d656e5ea",
   "metadata": {},
   "source": [
    "salida:\n",
    "\n",
    "    el_quijote.txt   RH RQCEPESEFM AR MPM.txt\n",
    "    A   0.127        A   0.049\n",
    "    B   0.017        B   0.006\n",
    "    C   0.037        C   0.040\n",
    "    .                .\n",
    "    .                .\n",
    "    .                ."
   ]
  },
  {
   "cell_type": "markdown",
   "id": "81665cdb",
   "metadata": {},
   "source": [
    "<hr>\n",
    "<b><font color='red'>Ejercicio 07</font></b>  \n",
    "\n",
    "Comparando el analisis de frecuencia sabrías decir cual es el titulo del libro.  \n",
    "RH RQCEPESEFM AR MPM"
   ]
  },
  {
   "cell_type": "code",
   "execution_count": null,
   "id": "92c2f5fa",
   "metadata": {},
   "outputs": [],
   "source": []
  },
  {
   "cell_type": "markdown",
   "id": "3a97d8ff",
   "metadata": {},
   "source": [
    "El título del libro es: EL ESCARABAJO DE ORO"
   ]
  }
 ],
 "metadata": {
  "kernelspec": {
   "display_name": "Python 3 (ipykernel)",
   "language": "python",
   "name": "python3"
  },
  "language_info": {
   "codemirror_mode": {
    "name": "ipython",
    "version": 3
   },
   "file_extension": ".py",
   "mimetype": "text/x-python",
   "name": "python",
   "nbconvert_exporter": "python",
   "pygments_lexer": "ipython3",
   "version": "3.9.13"
  }
 },
 "nbformat": 4,
 "nbformat_minor": 5
}
